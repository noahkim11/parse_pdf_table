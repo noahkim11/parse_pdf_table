{
 "cells": [
  {
   "cell_type": "code",
   "execution_count": null,
   "metadata": {},
   "outputs": [],
   "source": [
    "import camelot\n",
    "import pandas\n",
    "\n",
    "#tables = camelot.read_pdf('Q12 Attachment - Streetlight Inventory.pdf',pages='1-end')\n",
    "tables = camelot.read_pdf('Q3 Attachment 1 - Bureau Staffing Summary.pdf',pages='1-end')"
   ]
  },
  {
   "cell_type": "code",
   "execution_count": 146,
   "metadata": {
    "collapsed": true
   },
   "outputs": [],
   "source": [
    "#tables[0].parsing_report\n",
    "#tables[0].to_csv('foo.csv') \n",
    "\n",
    "len(tables)\n",
    "\n",
    "output = []\n",
    "\n",
    "for item in tables:\n",
    "\n",
    "    for row in item.df.values:\n",
    "        \n",
    "#        print(type(row))\n",
    "\n",
    "        \n",
    "        output.append(row.tolist())\n",
    "    \n",
    "\n",
    "\n",
    "df = pandas.DataFrame(output)\n",
    "\n",
    "\n",
    "\n",
    "\n",
    "\n",
    "df.to_csv('foo2.csv')\n"
   ]
  },
  {
   "cell_type": "code",
   "execution_count": 145,
   "metadata": {},
   "outputs": [
    {
     "data": {
      "text/plain": [
       "['POLE ID', 'POLE TYPE', 'TALLY']"
      ]
     },
     "execution_count": 145,
     "metadata": {},
     "output_type": "execute_result"
    }
   ],
   "source": [
    "output[0]"
   ]
  }
 ],
 "metadata": {
  "kernelspec": {
   "display_name": "Python 3",
   "language": "python",
   "name": "python3"
  },
  "language_info": {
   "codemirror_mode": {
    "name": "ipython",
    "version": 3
   },
   "file_extension": ".py",
   "mimetype": "text/x-python",
   "name": "python",
   "nbconvert_exporter": "python",
   "pygments_lexer": "ipython3",
   "version": "3.6.3"
  }
 },
 "nbformat": 4,
 "nbformat_minor": 2
}
